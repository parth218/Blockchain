{
  "nbformat": 4,
  "nbformat_minor": 0,
  "metadata": {
    "colab": {
      "provenance": []
    },
    "kernelspec": {
      "name": "python3",
      "display_name": "Python 3"
    },
    "language_info": {
      "name": "python"
    }
  },
  "cells": [
    {
      "cell_type": "markdown",
      "source": [
        "Creating Block using doubly linked list"
      ],
      "metadata": {
        "id": "vK7xu5fQm4V2"
      }
    },
    {
      "cell_type": "code",
      "execution_count": 2,
      "metadata": {
        "colab": {
          "base_uri": "https://localhost:8080/"
        },
        "id": "AJE6ml21jv5Q",
        "outputId": "8d9b17b9-85db-43b6-bfab-c85048d2c8c9"
      },
      "outputs": [
        {
          "output_type": "stream",
          "name": "stdout",
          "text": [
            "data : I \n",
            "Hash : 0000105e1552c28fb195d9bc835b6b9d04408c701d8aac91249af6494c5e6b62\n",
            "Nonce : 82178\n",
            "\n",
            "data : am \n",
            "Hash : 000032fd4a1e5dea01f83284e171a2422a322b69c59dccdcc82cb8648de5630e\n",
            "Nonce : 132277\n",
            "\n",
            "data : parth\n",
            "Hash : 00005aef2e5baf8ba49c321e9455dfb3a370b9de3625196e98e4b0050f30427c\n",
            "Nonce : 16767\n",
            "\n",
            "data : .\n",
            "Hash : 00004bf0c3e9d6961266be46a9690c3f2a60115d9ad5c64b5261b1bfda7aa400\n",
            "Nonce : 112049\n",
            "\n"
          ]
        }
      ],
      "source": [
        "from hashlib import sha256\n",
        "\n",
        "def hash(p_key, send_addr, recv_addr, amount):\n",
        "    ans = sha256((p_key+send_addr+recv_addr+amount).encode()).hexdigest()\n",
        "    return ans\n",
        "\n",
        "class node:\n",
        "    def __init__(self, prev=None, data=None, next=None):\n",
        "        self.prev = prev\n",
        "        self.data = data\n",
        "        self.next = next\n",
        "        \n",
        "        b = True\n",
        "        for i in range(9999999):\n",
        "            x = sha256((self.prev+data+str(i)).encode()).hexdigest()\n",
        "            if x[:4] == '0000':\n",
        "                self.hash = x\n",
        "                self.nonce = i\n",
        "                b = False\n",
        "                break\n",
        "\n",
        "        if b:\n",
        "            self.nonce = -1\n",
        "            self.hash = sha256((self.prev+data+str(-1)).encode()).hexdigest()\n",
        "\n",
        "class BLOCKCHAIN:\n",
        "    def __init__(self):\n",
        "        self.head = None\n",
        "        \n",
        "    def add_end(self, data):\n",
        "        # new_node = node(data=data)\n",
        "        if self.head is None:\n",
        "            self.head = node(data=data, prev=\"0000000000000000000000000000000000000000000000000000000000000000\")\n",
        "            return\n",
        "\n",
        "        last = self.head\n",
        "        while last.next:\n",
        "            last = last.next\n",
        "\n",
        "        new_node = node(data=data, prev=last.data)\n",
        "        last.next = new_node\n",
        "        return\n",
        "\n",
        "    def print_all(self):\n",
        "        current = self.head\n",
        "        while current:\n",
        "            print(\"data :\", current.data)\n",
        "            print(\"Hash :\", current.hash)\n",
        "            print(\"Nonce :\", current.nonce)\n",
        "            print()\n",
        "            current = current.next\n",
        "        return\n",
        "\n",
        "a = BLOCKCHAIN()\n",
        "a.add_end('I ')\n",
        "a.add_end('am ')\n",
        "a.add_end('parth')\n",
        "a.add_end('.')\n",
        "\n",
        "a.print_all()"
      ]
    },
    {
      "cell_type": "markdown",
      "source": [
        "doubly linked list"
      ],
      "metadata": {
        "id": "J7GLrMGYnF1C"
      }
    },
    {
      "cell_type": "code",
      "source": [
        "from ctypes import sizeof\n",
        "from hashlib import sha256\n",
        "\n",
        "class node:\n",
        "    def __init__(self, prev=None, data=None, next=None):\n",
        "        self.prev = prev\n",
        "        self.data = data\n",
        "        self.next = next\n",
        "\n",
        "class DLL:\n",
        "    def __init__(self):\n",
        "        self.head = None\n",
        "        \n",
        "    def add_end(self, data):\n",
        "        new_node = node(data=data)\n",
        "        if self.head is None:\n",
        "            self.head = new_node\n",
        "            return\n",
        "\n",
        "        last = self.head\n",
        "        while last.next:\n",
        "            last = last.next\n",
        "\n",
        "        last.next = new_node\n",
        "        new_node.prev = last\n",
        "        return\n",
        "\n",
        "    def print_all(self):\n",
        "        current = self.head\n",
        "        while current:\n",
        "            print(current.data)\n",
        "            current = current.next\n",
        "        return\n",
        "    \n",
        "    def add_start(self, data):\n",
        "        new_node = node(data=data)\n",
        "        if self.head is None:\n",
        "            self.head = new_node\n",
        "            return\n",
        "\n",
        "        new_node.next = self.head\n",
        "        self.head.prev = new_node\n",
        "        self.head = new_node\n",
        "        return\n",
        "\n",
        "a = DLL()\n",
        "a.add_end(1)\n",
        "a.add_end(7)\n",
        "a.add_end(3)\n",
        "a.add_start(2)\n",
        "a.add_end(4)\n",
        "\n",
        "a.print_all()"
      ],
      "metadata": {
        "colab": {
          "base_uri": "https://localhost:8080/"
        },
        "id": "AV0S-qg2mxaK",
        "outputId": "37212f01-5443-4c44-fc27-6ce58310c1db"
      },
      "execution_count": 3,
      "outputs": [
        {
          "output_type": "stream",
          "name": "stdout",
          "text": [
            "2\n",
            "1\n",
            "7\n",
            "3\n",
            "4\n"
          ]
        }
      ]
    }
  ]
}